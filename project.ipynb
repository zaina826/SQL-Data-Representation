{
 "cells": [
  {
   "cell_type": "markdown",
   "metadata": {},
   "source": [
    "# AIN 214 - PA2 - FALL 2023\n",
    "\n",
    "BELOW MD CELLS CONTAIN THE QUESTIONS YOU ARE ASKED TO IMPLEMENT WITHIN THE CONTEXT OF THIS HW. PLEASE FILL IN THE CELLS FOR THE ANSWERS RIGHT BELOW THE MD CELL OF THE QUESTION. YOU CAN ADD AS MANY CELLS AS YOU WANT, BE IT CODE OR MD, SO LONG AS YOU PROVIDE AN UNDERSTANDABLE AND TRACBLE REPORTING. PLEASE ADD COMMENTS ON YOUR CODES. ALSO, FILL IN MD CELLS WHERE YOU ARE ASKED YO COMMENT ON YOUR RESULTS OR EPXLAIN YOUR REASONING. ALSO, PLEASE DO NO HESITATE TO USE THEM FOR YOUR OWN REPORTING PURPOSES. PLEASE KEEP IN MIND THAT REPORTING IS A KEY STEP IN DATA SCIENCE.\n",
    "\n",
    "Deadline: 17.11.2023 (23:59:59)\n",
    "\n",
    "Submission: Submit your Jupyter Notebooks via https://submit.cs.hacettepe.edu.tr/"
   ]
  },
  {
   "cell_type": "markdown",
   "metadata": {},
   "source": [
    "# THE STUDENT INFO\n",
    "# Student Name: Zaina Abushaban\n"
   ]
  },
  {
   "cell_type": "code",
   "execution_count": 2,
   "metadata": {},
   "outputs": [],
   "source": [
    "# imports\n",
    "import numpy as np\n",
    "import pandas as pd\n",
    "from sqlite3 import connect\n",
    "import sqlite3\n"
   ]
  },
  {
   "cell_type": "markdown",
   "metadata": {},
   "source": [
    "# 1st SET OF QUESTIONS: Skyward Travel Agency Data Management Project\n",
    "\n",
    "Skyward is a premier travel agency aiming to provide seamless experiences for its clients. As business is booming, the agency has a myriad of data points to keep track of, and they need an efficient way to manage it all. Here's what they're dealing with:\n",
    "\n",
    "- **Clients' Database**: Skyward has a growing list of clients. For each client, they maintain records of their full name, contact email, and phone number. Every client is assigned a unique client ID for efficient tracking and personalized service.\n",
    "\n",
    "- **Airline Partnerships**: Skyward has collaborations with several airline companies, each identified by a unique airline ID. Beyond just names, they have comprehensive details of all the flights offered by these airline companies. This flight data includes flight numbers, associated airline IDs, departure cities, destinations, and dates of operation.\n",
    "\n",
    "- **Hotel Affiliations**: Skyward's clients need places to stay, leading to collaborations with multiple hotels. Each hotel is cataloged with a unique ID, alongside its name, geographical location, and a client feedback rating ranging from 1 to 5.\n",
    "\n",
    "- **Travel Bookings**: Skyward's primary service involves facilitating travel bookings. Every booking, be it for a flight or hotel, gets recorded. Flight bookings include the specific flight number, the client's ID making the booking, and the booking date. Hotel bookings aren't any different with records of the hotel ID, the client's ID, and the duration of stay (check-in and check-out dates).\n",
    "\n",
    "- **Feedback Mechanism**: Feedback drives Skyward's quality assurance. Clients are encouraged to leave reviews post their trips. For airlines, each review captures the client's ID, the reviewed airline's ID, and the feedback text. Hotel feedback mirrors this, substituting airlines for hotels.\n",
    "\n",
    "**Data Provision:**\n",
    "You are provided with unnormalized `feedback_details_df` and `bookings_df` datasets in the form of CSV files.\n",
    "\n",
    "**Your Task**:\n",
    "\n",
    "You should design your own DB schema meeting the above-stated constraints. There are multiple ways to design your tables; you only need to ensure that the design fits the outlined requirements. Begin by clearly defining your schema as tables. Once the schema is established, you will tackle a set of SQL tasks that will be provided separately. The SQL tasks will involve writing queries to extract, modify, or add data based on the designed schema. Good luck! \n",
    "\n",
    "**Note: Use sqite3 python package for DB**\n"
   ]
  },
  {
   "cell_type": "markdown",
   "metadata": {},
   "source": [
    "## Q1. Design your schema as tables. Draw the necessary tables with the appropriate attributes. State the primary keys, foreign keys (and their references). Create the tables in your schema in the database. (10 Points)\n",
    "\n",
    "There is no single soluion here, come up with your own design."
   ]
  },
  {
   "cell_type": "markdown",
   "metadata": {},
   "source": [
    "\\<**your design here**\\>\n",
    "\n",
    "Client Table:\n",
    "| Field         | Type/Constraints                           |\n",
    "|---------------|--------------------------------------------|\n",
    "| Client_ID     | PK, int                          |\n",
    "| Email     | string                          |\n",
    "| Name     | string                          |\n",
    "| Phone_Num     | string                         |\n",
    "\n",
    "\n",
    "Airlines Table:\n",
    "| Field         | Type/Constraints                           |\n",
    "|---------------|--------------------------------------------|\n",
    "| Airline_ID     | PK, int                          |\n",
    "| Airline_Name     | string                          |\n",
    "\n",
    "Flights Table:\n",
    "| Field         | Type/Constraints                           |\n",
    "|---------------|--------------------------------------------|\n",
    "| Flight_ID     | PK, int                          |\n",
    "| Airline_ID     | FK, int                          |\n",
    "| Dep_City     | string                          |\n",
    "| Destination     | string                          |\n",
    "| date     | datetime                          |\n",
    "\n",
    "Hotel Table:\n",
    "| Field         | Type/Constraints                           |\n",
    "|---------------|--------------------------------------------|\n",
    "| Hotel_ID     | PK, int                          |\n",
    "| Hotel_Name     | string                          |\n",
    "| Location     | string                          |\n",
    "| Rating     | int                          |\n",
    "\n",
    "\n",
    "Bookings Table:\n",
    "| Field         | Type/Constraints                           |\n",
    "|---------------|--------------------------------------------|\n",
    "| Booking_ID     | PK, int                          |\n",
    "| Airline_ID     | FK, int                          |\n",
    "| Hotel_ID     | FK, int                          |\n",
    "| Flight_Time    | datetime                          |\n",
    "\n",
    "Feedback Table:\n",
    "| Field         | Type/Constraints                           |\n",
    "|---------------|--------------------------------------------|\n",
    "| Feedback_ID     | PK, int                          |\n",
    "| Client_ID     | FK, int                          |\n",
    "| Hotel_ID     | FK, int                          |\n",
    "| Airline_ID     | FK, int                          |\n",
    "| text     | string                          |\n"
   ]
  },
  {
   "cell_type": "code",
   "execution_count": 3,
   "metadata": {},
   "outputs": [
    {
     "data": {
      "text/plain": [
       "501"
      ]
     },
     "execution_count": 3,
     "metadata": {},
     "output_type": "execute_result"
    }
   ],
   "source": [
    "\n",
    "BookingDetailsDf = pd.read_csv('BookingDetails.csv')\n",
    "\n",
    "conn = sqlite3.connect('travel.db')\n",
    "cursor = conn.cursor()\n",
    "\n",
    "#The Client table\n",
    "cursor.execute('''\n",
    "    CREATE TABLE IF NOT EXISTS Client(\n",
    "        CustomerID INTEGER PRIMARY KEY UNIQUE,\n",
    "        CustomerName TEXT,\n",
    "        CustomerEmail TEXT,\n",
    "        CustomerPhone TEXT\n",
    "    );\n",
    "''')\n",
    "\n",
    "unique_clients_df = BookingDetailsDf[['CustomerID', 'CustomerName', 'CustomerEmail', 'CustomerPhone']].drop_duplicates()\n",
    "unique_clients_df.to_sql(\"Client\", conn, if_exists=\"replace\", index=False)\n",
    "\n"
   ]
  },
  {
   "cell_type": "code",
   "execution_count": 4,
   "metadata": {},
   "outputs": [
    {
     "data": {
      "text/plain": [
       "10"
      ]
     },
     "execution_count": 4,
     "metadata": {},
     "output_type": "execute_result"
    }
   ],
   "source": [
    "#The Airlines table\n",
    "cursor.execute('''\n",
    "    CREATE TABLE IF NOT EXISTS Airlines(\n",
    "        AirlineID INTEGER PRIMARY KEY UNIQUE,\n",
    "        AirlineName TEXT\n",
    "    );\n",
    "''')\n",
    "\n",
    "unique_airlines_df = BookingDetailsDf[['AirlineID', 'AirlineName']].drop_duplicates().dropna()\n",
    "unique_airlines_df.to_sql(\"Airlines\", conn, if_exists=\"replace\", index=False)\n"
   ]
  },
  {
   "cell_type": "code",
   "execution_count": 5,
   "metadata": {},
   "outputs": [
    {
     "data": {
      "text/plain": [
       "99"
      ]
     },
     "execution_count": 5,
     "metadata": {},
     "output_type": "execute_result"
    }
   ],
   "source": [
    "\n",
    "#The Flights table\n",
    "cursor.execute('''\n",
    "    CREATE TABLE IF NOT EXISTS Flights (\n",
    "        FlightID INTEGER PRIMARY KEY UNIQUE,\n",
    "        AirlineID INTEGER,\n",
    "        Flight_Departure TEXT,\n",
    "        Flight_Destination TEXT,\n",
    "        Flight_Date DATETIME,\n",
    "        FOREIGN KEY (AirlineID) REFERENCES Airlines(AirlineID)\n",
    "\n",
    "    )\n",
    "''')\n",
    "\n",
    "unique_flights_df = BookingDetailsDf[['FlightID', 'AirlineName', 'Flight_Departure', 'Flight_Destination', 'Flight_Date']].drop_duplicates().dropna()\n",
    "unique_flights_df.to_sql(\"Flights\", conn, if_exists=\"replace\", index=False)\n",
    "\n"
   ]
  },
  {
   "cell_type": "code",
   "execution_count": 6,
   "metadata": {},
   "outputs": [
    {
     "data": {
      "text/plain": [
       "50"
      ]
     },
     "execution_count": 6,
     "metadata": {},
     "output_type": "execute_result"
    }
   ],
   "source": [
    "#The Hotels table\n",
    "cursor.execute('''\n",
    "    CREATE TABLE IF NOT EXISTS Hotels(\n",
    "        HotelID INTEGER PRIMARY KEY UNIQUE,\n",
    "        HotelName TEXT,\n",
    "        HotelLocation TEXT,\n",
    "        HotelRating INT\n",
    "    );\n",
    "''')\n",
    "\n",
    "unique_hotels_df = BookingDetailsDf[['HotelID', 'HotelName','HotelLocation','HotelRating']].drop_duplicates().dropna()\n",
    "unique_hotels_df.to_sql(\"Hotels\", conn, if_exists=\"replace\", index=False)\n",
    "\n",
    "\n"
   ]
  },
  {
   "cell_type": "code",
   "execution_count": 7,
   "metadata": {},
   "outputs": [],
   "source": [
    "#The Bookings table\n",
    "cursor.execute('''\n",
    "    CREATE TABLE IF NOT EXISTS Bookings(\n",
    "        BookingID INTEGER PRIMARY KEY UNIQUE,\n",
    "        AirlineID INTEGER,\n",
    "        CustomerID INTEGER,\n",
    "        HotelID INTEGER,       \n",
    "        Flight_Date DATETIME,\n",
    "        FOREIGN KEY (CustomerID) REFERENCES Client(CustomerID),    \n",
    "        FOREIGN KEY (AirlineID) REFERENCES Airlines(AirlineID),\n",
    "        FOREIGN KEY (HotelID) REFERENCES Hotels(HotelID)       \n",
    "    );\n",
    "''')\n",
    "\n",
    "unique_bookings_df = BookingDetailsDf[['BookingID', 'AirlineID','HotelID','Flight_Date','CustomerID']].drop_duplicates()\n",
    "unique_bookings_df.to_sql(\"Bookings\", conn, if_exists=\"replace\", index=False)\n",
    "\n",
    "conn.commit()"
   ]
  },
  {
   "cell_type": "code",
   "execution_count": 8,
   "metadata": {},
   "outputs": [],
   "source": [
    "#The feedback table\n",
    "FeedbackDetailsDf = pd.read_csv('FeedbackDetails.csv')\n",
    "cursor.execute('''\n",
    "    CREATE TABLE IF NOT EXISTS Feedback(\n",
    "        FeedbackID INTEGER PRIMARY KEY UNIQUE,\n",
    "        CustomerID INTEGER,\n",
    "        HotelID INTEGER,       \n",
    "        AirlineID INTEGER,\n",
    "        Review TEXT,\n",
    "        FOREIGN KEY (CustomerID) REFERENCES Client(CustomerID),\n",
    "        FOREIGN KEY (AirlineID) REFERENCES Airlines(AirlineID),\n",
    "        FOREIGN KEY (HotelID) REFERENCES Hotels(HotelID)       \n",
    "    );\n",
    "''')\n",
    "unique_feedback_df = FeedbackDetailsDf[['FeedbackID', 'AirlineID','HotelID','CustomerID','Review']].drop_duplicates()\n",
    "unique_feedback_df.to_sql(\"Feedback\", conn, if_exists=\"replace\", index=False)\n",
    "\n",
    "conn.commit()\n"
   ]
  },
  {
   "cell_type": "markdown",
   "metadata": {},
   "source": [
    "## Q2. Find the total number of bookings made for each hotel. Display the hotel name and the corresponding number of bookings. (10 Points)"
   ]
  },
  {
   "cell_type": "code",
   "execution_count": 9,
   "metadata": {},
   "outputs": [
    {
     "data": {
      "text/plain": [
       "[('Opal Motel', 11),\n",
       " ('Diamond Plaza', 6),\n",
       " ('Golden Suites', 16),\n",
       " ('Silver Villa', 10),\n",
       " ('Emerald Motel', 15),\n",
       " ('Sapphire Villa', 14),\n",
       " ('Jade Motel', 5),\n",
       " ('Jade Suites', 7),\n",
       " ('Pearl Resort', 12),\n",
       " ('Emerald Resort', 9),\n",
       " ('Golden Inn', 14),\n",
       " ('Jade Resort', 11),\n",
       " ('Silver Palace', 8),\n",
       " ('Silver Resort', 15),\n",
       " ('Diamond Villa', 10),\n",
       " ('Sapphire Villa', 8),\n",
       " ('Diamond Resort', 15),\n",
       " ('Pearl Hideaway', 8),\n",
       " ('Opal Suites', 9),\n",
       " ('Golden Retreat', 7),\n",
       " ('Opal Plaza', 10),\n",
       " ('Ruby Hideaway', 8),\n",
       " ('Opal Inn', 4),\n",
       " ('Diamond Inn', 14),\n",
       " ('Jade Suites', 10),\n",
       " ('Sapphire Hideaway', 10),\n",
       " ('Pearl Lodge', 5),\n",
       " ('Golden Resort', 12),\n",
       " ('Diamond Suites', 10),\n",
       " ('Golden Resort', 6),\n",
       " ('Jade Lodge', 9),\n",
       " ('Golden Hideaway', 9),\n",
       " ('Opal Motel', 4),\n",
       " ('Diamond Inn', 15),\n",
       " ('Ruby Plaza', 8),\n",
       " ('Ruby Palace', 8),\n",
       " ('Jade Retreat', 9),\n",
       " ('Pearl Motel', 7),\n",
       " ('Crystal Motel', 11),\n",
       " ('Sapphire Suites', 11),\n",
       " ('Silver Hideaway', 11),\n",
       " ('Pearl Plaza', 8),\n",
       " ('Golden Villa', 10),\n",
       " ('Diamond Inn', 14),\n",
       " ('Emerald Palace', 14),\n",
       " ('Golden Lodge', 8),\n",
       " ('Ruby Resort', 7),\n",
       " ('Sapphire Motel', 12),\n",
       " ('Golden Plaza', 8),\n",
       " ('Jade Suites', 6)]"
      ]
     },
     "execution_count": 9,
     "metadata": {},
     "output_type": "execute_result"
    }
   ],
   "source": [
    "cursor.execute('''\n",
    "    SELECT H.HotelName, COUNT(B.HotelID)\n",
    "    FROM Bookings AS B\n",
    "    JOIN Hotels AS H ON B.HotelID = H.HotelID\n",
    "    GROUP BY B.HotelID\n",
    "''')\n",
    "result = cursor.fetchall()\n",
    "result"
   ]
  },
  {
   "cell_type": "markdown",
   "metadata": {},
   "source": [
    "## Q3. Retrieve the name and contact details of clients who have provided feedback for both flights and hotels. Ensure there are no duplicate entries in your result. (10 Points)\n"
   ]
  },
  {
   "cell_type": "code",
   "execution_count": 10,
   "metadata": {},
   "outputs": [
    {
     "data": {
      "text/plain": [
       "[(6148, 'Ethan Martinez', 'ethan.martinez@mail.com', '555-3339628'),\n",
       " (4149, 'Sophia Davis', 'sophia.davis@mail.com', '555-7585879'),\n",
       " (8247, 'Liam Miller', 'liam.miller@mail.com', '555-3750839'),\n",
       " (8292, 'Mason Brown', 'mason.brown@mail.com', '555-4291570'),\n",
       " (6260, 'Ethan Smith', 'ethan.smith@mail.com', '555-4014268'),\n",
       " (4253, 'Olivia Martinez', 'olivia.martinez@mail.com', '555-3255322'),\n",
       " (8379, 'Liam Brown', 'liam.brown@mail.com', '555-3328325'),\n",
       " (8380, 'Olivia Miller', 'olivia.miller@mail.com', '555-7935514'),\n",
       " (6337, 'Ethan Rodriguez', 'ethan.rodriguez@mail.com', '555-7714590'),\n",
       " (4290, 'Liam Martinez', 'liam.martinez@mail.com', '555-3004787'),\n",
       " (8410, 'Mason Brown', 'mason.brown@mail.com', '555-0826096'),\n",
       " (4317, 'Ethan Miller', 'ethan.miller@mail.com', '555-7366655'),\n",
       " (6383, 'Mia Williams', 'mia.williams@mail.com', '555-4798996'),\n",
       " (4353, 'John Smith', 'john.smith@mail.com', '555-3493476'),\n",
       " (6407, 'Emma Smith', 'emma.smith@mail.com', '555-0707146'),\n",
       " (8480, 'Mason Brown', 'mason.brown@mail.com', '555-3196635'),\n",
       " (6442, 'John Davis', 'john.davis@mail.com', '555-5153122'),\n",
       " (8492, 'Olivia Rodriguez', 'olivia.rodriguez@mail.com', '555-1943374'),\n",
       " (6470, 'Emma Davis', 'emma.davis@mail.com', '555-8584852'),\n",
       " (2391, 'Ava Williams', 'ava.williams@mail.com', '555-1519142'),\n",
       " (8538, 'John Johnson', 'john.johnson@mail.com', '555-8621989'),\n",
       " (4506, 'Ava Smith', 'ava.smith@mail.com', '555-8868423'),\n",
       " (2468, 'Ava Williams', 'ava.williams@mail.com', '555-0306340'),\n",
       " (6570, 'Sophia Garcia', 'sophia.garcia@mail.com', '555-4477984'),\n",
       " (2479, 'Liam Johnson', 'liam.johnson@mail.com', '555-5991579'),\n",
       " (2482, 'Sophia Brown', 'sophia.brown@mail.com', '555-0699775'),\n",
       " (4531, 'Logan Brown', 'logan.brown@mail.com', '555-8853740'),\n",
       " (2496, 'John Smith', 'john.smith@mail.com', '555-3616974'),\n",
       " (8651, 'Ethan Jones', 'ethan.jones@mail.com', '555-0003961'),\n",
       " (4586, 'Olivia Martinez', 'olivia.martinez@mail.com', '555-1094118'),\n",
       " (6646, 'Emma Garcia', 'emma.garcia@mail.com', '555-3832976'),\n",
       " (8702, 'Sophia Johnson', 'sophia.johnson@mail.com', '555-2448547'),\n",
       " (4609, 'Ethan Rodriguez', 'ethan.rodriguez@mail.com', '555-5969914'),\n",
       " (6723, 'John Brown', 'john.brown@mail.com', '555-5988133'),\n",
       " (4681, 'Sophia Garcia', 'sophia.garcia@mail.com', '555-6778980'),\n",
       " (6734, 'Ava Miller', 'ava.miller@mail.com', '555-0921939'),\n",
       " (4694, 'Ava Rodriguez', 'ava.rodriguez@mail.com', '555-1763037'),\n",
       " (8799, 'Mia Johnson', 'mia.johnson@mail.com', '555-8471012'),\n",
       " (4734, 'Mason Jones', 'mason.jones@mail.com', '555-9859933'),\n",
       " (8839, 'Olivia Williams', 'olivia.williams@mail.com', '555-0780377'),\n",
       " (4761, 'Mason Miller', 'mason.miller@mail.com', '555-8706942'),\n",
       " (6930, 'John Williams', 'john.williams@mail.com', '555-9373187'),\n",
       " (2840, 'Mia Smith', 'mia.smith@mail.com', '555-2197055'),\n",
       " (6946, 'Mia Martinez', 'mia.martinez@mail.com', '555-0308937'),\n",
       " (9029, 'Ethan Smith', 'ethan.smith@mail.com', '555-1189744'),\n",
       " (9085, 'Emma Brown', 'emma.brown@mail.com', '555-7136775'),\n",
       " (7044, 'Mia Davis', 'mia.davis@mail.com', '555-4185374'),\n",
       " (5015, 'Olivia Miller', 'olivia.miller@mail.com', '555-6375667'),\n",
       " (7080, 'Liam Jones', 'liam.jones@mail.com', '555-3294076'),\n",
       " (5047, 'Olivia Johnson', 'olivia.johnson@mail.com', '555-8142328'),\n",
       " (9147, 'Mia Miller', 'mia.miller@mail.com', '555-2636922'),\n",
       " (5074, 'Mia Rodriguez', 'mia.rodriguez@mail.com', '555-3597936'),\n",
       " (9180, 'Logan Brown', 'logan.brown@mail.com', '555-6902160'),\n",
       " (3047, 'Sophia Garcia', 'sophia.garcia@mail.com', '555-1797618'),\n",
       " (5101, 'Logan Johnson', 'logan.johnson@mail.com', '555-0898213'),\n",
       " (7163, 'Liam Brown', 'liam.brown@mail.com', '555-1772445'),\n",
       " (3067, 'Logan Garcia', 'logan.garcia@mail.com', '555-8723852'),\n",
       " (9220, 'Olivia Martinez', 'olivia.martinez@mail.com', '555-1759381'),\n",
       " (7180, 'Mia Jones', 'mia.jones@mail.com', '555-3274877'),\n",
       " (1045, 'Mason Jones', 'mason.jones@mail.com', '555-0497376'),\n",
       " (7191, 'Sophia Martinez', 'sophia.martinez@mail.com', '555-0293096'),\n",
       " (9244, 'Liam Davis', 'liam.davis@mail.com', '555-8686220'),\n",
       " (9258, 'Mason Miller', 'mason.miller@mail.com', '555-8064585'),\n",
       " (1085, 'Olivia Miller', 'olivia.miller@mail.com', '555-8743718'),\n",
       " (1094, 'Mason Martinez', 'mason.martinez@mail.com', '555-4087377'),\n",
       " (5238, 'Ava Rodriguez', 'ava.rodriguez@mail.com', '555-0302814'),\n",
       " (3209, 'Liam Brown', 'liam.brown@mail.com', '555-0166595'),\n",
       " (5279, 'Liam Davis', 'liam.davis@mail.com', '555-9816387'),\n",
       " (9382, 'Ava Jones', 'ava.jones@mail.com', '555-2606180'),\n",
       " (1229, 'Emma Miller', 'emma.miller@mail.com', '555-9672748'),\n",
       " (1241, 'Olivia Garcia', 'olivia.garcia@mail.com', '555-0514945'),\n",
       " (7439, 'Logan Johnson', 'logan.johnson@mail.com', '555-5232222'),\n",
       " (5393, 'Sophia Johnson', 'sophia.johnson@mail.com', '555-8333408'),\n",
       " (3346, 'Logan Garcia', 'logan.garcia@mail.com', '555-1786594'),\n",
       " (9497, 'Ava Smith', 'ava.smith@mail.com', '555-4286562'),\n",
       " (5414, 'John Smith', 'john.smith@mail.com', '555-5329141'),\n",
       " (5417, 'Mason Brown', 'mason.brown@mail.com', '555-7018305'),\n",
       " (9527, 'Ethan Davis', 'ethan.davis@mail.com', '555-0282897'),\n",
       " (7492, 'Sophia Jones', 'sophia.jones@mail.com', '555-5176700'),\n",
       " (5448, 'Liam Davis', 'liam.davis@mail.com', '555-2949165'),\n",
       " (7498, 'Sophia Rodriguez', 'sophia.rodriguez@mail.com', '555-7717570'),\n",
       " (5506, 'Mason Brown', 'mason.brown@mail.com', '555-0258878'),\n",
       " (5524, 'Ava Davis', 'ava.davis@mail.com', '555-4376898'),\n",
       " (9642, 'John Smith', 'john.smith@mail.com', '555-4394283'),\n",
       " (1462, 'Mia Miller', 'mia.miller@mail.com', '555-8785693'),\n",
       " (5559, 'Mason Jones', 'mason.jones@mail.com', '555-1751791'),\n",
       " (9698, 'Mia Williams', 'mia.williams@mail.com', '555-6569856'),\n",
       " (1548, 'Mason Davis', 'mason.davis@mail.com', '555-6250499'),\n",
       " (5649, 'Ava Garcia', 'ava.garcia@mail.com', '555-3577079'),\n",
       " (3618, 'Logan Miller', 'logan.miller@mail.com', '555-2271807'),\n",
       " (9764, 'Logan Williams', 'logan.williams@mail.com', '555-2061905'),\n",
       " (5673, 'Ava Williams', 'ava.williams@mail.com', '555-8246125'),\n",
       " (5682, 'Liam Williams', 'liam.williams@mail.com', '555-9372149'),\n",
       " (9796, 'Ava Brown', 'ava.brown@mail.com', '555-5172056'),\n",
       " (7794, 'Olivia Williams', 'olivia.williams@mail.com', '555-0618229'),\n",
       " (3699, 'Mason Smith', 'mason.smith@mail.com', '555-9287719'),\n",
       " (7798, 'Emma Miller', 'emma.miller@mail.com', '555-4005422'),\n",
       " (3727, 'Emma Williams', 'emma.williams@mail.com', '555-8283458'),\n",
       " (7837, 'Sophia Smith', 'sophia.smith@mail.com', '555-3170326'),\n",
       " (7888, 'Olivia Davis', 'olivia.davis@mail.com', '555-7937883'),\n",
       " (7932, 'Mason Brown', 'mason.brown@mail.com', '555-5765623'),\n",
       " (3874, 'John Martinez', 'john.martinez@mail.com', '555-1201810'),\n",
       " (5970, 'John Johnson', 'john.johnson@mail.com', '555-3857295'),\n",
       " (1891, 'Ethan Smith', 'ethan.smith@mail.com', '555-9454338'),\n",
       " (1898, 'Logan Martinez', 'logan.martinez@mail.com', '555-6346303'),\n",
       " (6003, 'Liam Brown', 'liam.brown@mail.com', '555-5183574'),\n",
       " (1933, 'Ethan Rodriguez', 'ethan.rodriguez@mail.com', '555-5432713'),\n",
       " (8096, 'Olivia Davis', 'olivia.davis@mail.com', '555-6970002'),\n",
       " (6117, 'Logan Martinez', 'logan.martinez@mail.com', '555-6781352')]"
      ]
     },
     "execution_count": 10,
     "metadata": {},
     "output_type": "execute_result"
    }
   ],
   "source": [
    "#First we'll get the IDs of customers that gave a hotel a rating.\n",
    "cursor.execute('''\n",
    "    SELECT CustomerID\n",
    "    FROM Feedback\n",
    "    WHERE HotelID IS NOT NULL;\n",
    "    ''')\n",
    "rated_hotels=set(cursor.fetchall())\n",
    "\n",
    "#Then we do the same for customers that gave an airline a rating.\n",
    "cursor.execute('''\n",
    "    SELECT CustomerID\n",
    "    FROM Feedback\n",
    "    WHERE AirlineID IS NOT NULL;\n",
    "    ''')\n",
    "rated_airlines=set(cursor.fetchall())\n",
    "\n",
    "#Now we get their intersection, and put JUST the ids in a list:\n",
    "rated_both= [item[0] for item in(rated_airlines.intersection(rated_hotels))]\n",
    "\n",
    "#We make a placeholder to be able to pass it in:\n",
    "placeholders = ', '.join(['?'] * len(rated_both))\n",
    "\n",
    "#Now we use this to get the names and contact details:\n",
    "cursor.execute(f'''\n",
    "    SELECT CustomerID,CustomerName,CustomerEmail,CustomerPhone\n",
    "    FROM Client\n",
    "    WHERE CustomerID IN ({placeholders})\n",
    "    ''',rated_both)\n",
    "cursor.fetchall()"
   ]
  },
  {
   "cell_type": "markdown",
   "metadata": {},
   "source": [
    "## Q4. Identify hotels that have a feedback rating lower than the average feedback rating across all hotels. List their names and ratings. (10 Points)\n"
   ]
  },
  {
   "cell_type": "code",
   "execution_count": 11,
   "metadata": {},
   "outputs": [
    {
     "name": "stdout",
     "output_type": "stream",
     "text": [
      "3.2\n"
     ]
    },
    {
     "data": {
      "text/plain": [
       "[('Pearl Resort', 2.0),\n",
       " ('Golden Resort', 3.0),\n",
       " ('Ruby Palace', 1.0),\n",
       " ('Golden Resort', 1.0),\n",
       " ('Golden Villa', 3.0),\n",
       " ('Sapphire Suites', 2.0),\n",
       " ('Opal Plaza', 2.0),\n",
       " ('Diamond Plaza', 2.0),\n",
       " ('Diamond Inn', 2.0),\n",
       " ('Golden Hideaway', 3.0),\n",
       " ('Jade Resort', 2.0),\n",
       " ('Golden Inn', 3.0),\n",
       " ('Golden Lodge', 2.0),\n",
       " ('Jade Motel', 2.0),\n",
       " ('Sapphire Villa', 2.0),\n",
       " ('Opal Suites', 1.0),\n",
       " ('Opal Inn', 1.0),\n",
       " ('Pearl Lodge', 1.0),\n",
       " ('Pearl Plaza', 2.0),\n",
       " ('Emerald Resort', 3.0),\n",
       " ('Silver Palace', 2.0),\n",
       " ('Pearl Hideaway', 1.0),\n",
       " ('Opal Motel', 1.0),\n",
       " ('Ruby Resort', 3.0),\n",
       " ('Golden Plaza', 2.0),\n",
       " ('Opal Motel', 2.0),\n",
       " ('Pearl Motel', 3.0)]"
      ]
     },
     "execution_count": 11,
     "metadata": {},
     "output_type": "execute_result"
    }
   ],
   "source": [
    "# Getting the average\n",
    "cursor.execute('''\n",
    "    SELECT AVG(HotelRating)\n",
    "    FROM Hotels\n",
    "''')\n",
    "average=float(cursor.fetchone()[0])\n",
    "#Getting the htoels with a rating lower than the average\n",
    "cursor.execute('''\n",
    "    SELECT HotelName,HotelRating\n",
    "    FROM Hotels\n",
    "    WHERE HotelRating<?;\n",
    "''',(average,))\n",
    "result=cursor.fetchall()\n",
    "result\n"
   ]
  },
  {
   "cell_type": "markdown",
   "metadata": {},
   "source": [
    "## Q5. Find clients who have stayed in at least three different hotels and flown with at least two different airlines. Display their names and total number of bookings. (10 Points)\n"
   ]
  },
  {
   "cell_type": "code",
   "execution_count": 12,
   "metadata": {},
   "outputs": [
    {
     "data": {
      "text/plain": [
       "[]"
      ]
     },
     "execution_count": 12,
     "metadata": {},
     "output_type": "execute_result"
    }
   ],
   "source": [
    "#First: Stayed in at least three different hotels\n",
    "cursor.execute('''\n",
    "SELECT CustomerID\n",
    "FROM Bookings\n",
    "GROUP BY CustomerID\n",
    "HAVING COUNT(DISTINCT HotelID) >=3;''')\n",
    "hotels3=set(cursor.fetchall())\n",
    "\n",
    "#Second: flown with at least two different airlines\n",
    "cursor.execute('''\n",
    "SELECT CustomerID\n",
    "FROM Bookings\n",
    "GROUP BY CustomerID\n",
    "HAVING COUNT(DISTINCT AirlineID) >=2;''')\n",
    "airlines2=set(cursor.fetchall())\n",
    "\n",
    "#Both:\n",
    "both= [item[0] for item in(airlines2.intersection(hotels3))]\n",
    "\n",
    "#We make a placeholder to be able to pass it in:\n",
    "placeholders = ', '.join(['?'] * len(both))\n",
    "\n",
    "#Now we use this to get the names and contact details:\n",
    "cursor.execute(f'''\n",
    "    SELECT B.CustomerID,C.CustomerName, COUNT(B.CustomerID)\n",
    "    FROM Bookings AS B\n",
    "    JOIN Client AS C on C.CustomerID= B.CustomerID\n",
    "    WHERE B.CustomerID IN ({placeholders})\n",
    "    GROUP BY C.CustomerID\n",
    "    ''',both)\n",
    "cursor.fetchall()\n"
   ]
  },
  {
   "cell_type": "markdown",
   "metadata": {},
   "source": [
    "## Q6 - **Bonus/Challenge**: Do the same in Q3 without using the keywords: \"HAVING\" and \"GROUP BY\". Make a comparison on the two processes (one using the aggregate operators and this) "
   ]
  },
  {
   "cell_type": "code",
   "execution_count": 13,
   "metadata": {},
   "outputs": [
    {
     "data": {
      "text/plain": [
       "[]"
      ]
     },
     "execution_count": 13,
     "metadata": {},
     "output_type": "execute_result"
    }
   ],
   "source": [
    "#First: Stayed in at least three different hotels\n",
    "cursor.execute('''\n",
    "SELECT DISTINCT B1.CustomerID\n",
    "FROM Bookings B1\n",
    "JOIN Bookings B2 ON B1.CustomerID = B2.CustomerID\n",
    "JOIN Bookings B3 ON B1.CustomerID = B3.CustomerID\n",
    "WHERE B1.HOTELID != B2.HOTELID\n",
    "AND B2.HOTELID != B3.HOTELID\n",
    "AND B1.HOTELID != B3.HOTELID \n",
    "AND B2.HOTELID IS NOT NULL\n",
    "AND B1.HOTELID IS NOT NULL\n",
    "AND B3.HOTELID IS NOT NULL;\n",
    "''')\n",
    "hotels3=set(cursor.fetchall())\n",
    "\n",
    "cursor.execute('''\n",
    "SELECT DISTINCT B1.CustomerID\n",
    "FROM Bookings B1\n",
    "JOIN Bookings B2 ON B1.CustomerID = B2.CustomerID\n",
    "WHERE B1.AirlineID != B2.AirlineID\n",
    "AND B2.AirlineID IS NOT NULL\n",
    "AND B1.AirlineID IS NOT NULL\n",
    "''')\n",
    "airlines2=set(cursor.fetchall())\n",
    "\n",
    "#Both:\n",
    "both= [item[0] for item in(airlines2.intersection(hotels3))]\n",
    "\n",
    "#We make a placeholder to be able to pass it in:\n",
    "placeholders = ', '.join(['?'] * len(both))\n",
    "\n",
    "#Now we use this to get the names and contact details:\n",
    "cursor.execute(f'''\n",
    "    SELECT C.CustomerName, COUNT(B.CustomerID)\n",
    "    FROM Bookings AS B\n",
    "    JOIN Client AS C on C.CustomerID= B.CustomerID\n",
    "    WHERE B.CustomerID IN ({placeholders})\n",
    "    GROUP BY C.CustomerID\n",
    "    ''',both)\n",
    "cursor.fetchall()"
   ]
  },
  {
   "cell_type": "markdown",
   "metadata": {},
   "source": [
    "# 2nd SET OF QUESTIONS: DATA ANALYSIS WITH VISUALIZATION TOOLS\n",
    "\n",
    "In the 2nd part of this hw, you are to deal with the famous dataset of Titanic [1]. Answer the following questions, using visualization tools, and comment on your work."
   ]
  },
  {
   "cell_type": "markdown",
   "metadata": {},
   "source": [
    "## Q1. Read the Titanic dataset into a DataFrame. Using a pivot table, analyze the survival rate by gender and class.\n"
   ]
  },
  {
   "cell_type": "code",
   "execution_count": 14,
   "metadata": {},
   "outputs": [
    {
     "data": {
      "text/html": [
       "<div>\n",
       "<style scoped>\n",
       "    .dataframe tbody tr th:only-of-type {\n",
       "        vertical-align: middle;\n",
       "    }\n",
       "\n",
       "    .dataframe tbody tr th {\n",
       "        vertical-align: top;\n",
       "    }\n",
       "\n",
       "    .dataframe thead th {\n",
       "        text-align: right;\n",
       "    }\n",
       "</style>\n",
       "<table border=\"1\" class=\"dataframe\">\n",
       "  <thead>\n",
       "    <tr style=\"text-align: right;\">\n",
       "      <th>Pclass</th>\n",
       "      <th>1</th>\n",
       "      <th>2</th>\n",
       "      <th>3</th>\n",
       "    </tr>\n",
       "    <tr>\n",
       "      <th>Sex</th>\n",
       "      <th></th>\n",
       "      <th></th>\n",
       "      <th></th>\n",
       "    </tr>\n",
       "  </thead>\n",
       "  <tbody>\n",
       "    <tr>\n",
       "      <th>female</th>\n",
       "      <td>0.968085</td>\n",
       "      <td>0.921053</td>\n",
       "      <td>0.500000</td>\n",
       "    </tr>\n",
       "    <tr>\n",
       "      <th>male</th>\n",
       "      <td>0.368852</td>\n",
       "      <td>0.157407</td>\n",
       "      <td>0.135447</td>\n",
       "    </tr>\n",
       "  </tbody>\n",
       "</table>\n",
       "</div>"
      ],
      "text/plain": [
       "Pclass         1         2         3\n",
       "Sex                                 \n",
       "female  0.968085  0.921053  0.500000\n",
       "male    0.368852  0.157407  0.135447"
      ]
     },
     "execution_count": 14,
     "metadata": {},
     "output_type": "execute_result"
    }
   ],
   "source": [
    "import seaborn as sns\n",
    "df = pd.read_csv('titanic.csv')\n",
    "df.pivot_table('Survived', index='Sex', columns='Pclass')\n"
   ]
  },
  {
   "cell_type": "markdown",
   "metadata": {},
   "source": [
    "Generally a higher survival rate for women, following the \"Ladies first\" rule is always appreciated.\n",
    "Secondly we notice people of the third class have a significantly lower survival rate."
   ]
  },
  {
   "cell_type": "markdown",
   "metadata": {},
   "source": [
    "## Q2. Create a histogram showcasing the age distribution of passengers. Overlay this with a KDE plot. Comment on the most common age group aboard the Titanic.\n"
   ]
  },
  {
   "cell_type": "code",
   "execution_count": 15,
   "metadata": {},
   "outputs": [
    {
     "data": {
      "text/plain": [
       "<seaborn.axisgrid.FacetGrid at 0x11ca36f10>"
      ]
     },
     "execution_count": 15,
     "metadata": {},
     "output_type": "execute_result"
    },
    {
     "data": {
      "image/png": "[encoded data removed]",
      "text/plain": [
       "<Figure size 500x500 with 1 Axes>"
      ]
     },
     "metadata": {},
     "output_type": "display_data"
    }
   ],
   "source": [
    "plot=sns.displot(df, x=\"Age\",kde=True)\n",
    "plot.set_axis_labels(y_var=\"Count of people\")\n"
   ]
  },
  {
   "cell_type": "markdown",
   "metadata": {},
   "source": [
    "The most common age was late 20s to early 30s, which makes sense, most of these people were seeking a fun getaway on the biggest most luxurious ship in the world at that time."
   ]
  },
  {
   "cell_type": "markdown",
   "metadata": {},
   "source": [
    "## Q3. Using a pie chart, illustrate the embarkation points for Titanic passengers. Identify the port with the highest boarding. Analyze the age and sex distribution from this port. Does this distribution reflect the \"women and children first\" evacuation policy?"
   ]
  },
  {
   "cell_type": "code",
   "execution_count": 16,
   "metadata": {},
   "outputs": [
    {
     "data": {
      "image/png": "[encoded data removed]",
      "text/plain": [
       "<Figure size 640x480 with 1 Axes>"
      ]
     },
     "metadata": {},
     "output_type": "display_data"
    }
   ],
   "source": [
    "import matplotlib.pyplot as plt\n",
    "\n",
    "embarked = df['Embarked'].value_counts()\n",
    "\n",
    "colors = sns.color_palette('pastel')[0:5]\n",
    "\n",
    "plot = embarked.plot.pie(labels=embarked.index, colors=colors)\n",
    "plt.title('Distribution of embarkation points')\n",
    "plt.show()\n"
   ]
  },
  {
   "cell_type": "code",
   "execution_count": 17,
   "metadata": {},
   "outputs": [
    {
     "data": {
      "text/plain": [
       "Text(0.5, 1.0, 'Embarkation details at S')"
      ]
     },
     "execution_count": 17,
     "metadata": {},
     "output_type": "execute_result"
    },
    {
     "data": {
      "image/png": "[encoded data removed]",
      "text/plain": [
       "<Figure size 598x500 with 1 Axes>"
      ]
     },
     "metadata": {},
     "output_type": "display_data"
    }
   ],
   "source": [
    "#So, S is the most common embarkation point.\n",
    "sns.displot(df[df[\"Embarked\"] == \"S\"], x=\"Age\", hue=\"Sex\", kde=True, multiple=\"stack\")\n",
    "plt.title('Embarkation details at S')\n"
   ]
  },
  {
   "cell_type": "markdown",
   "metadata": {},
   "source": [
    "I'm guessing we should see if this reflects the women and children first policy for *Embarkation*, which I'm not really noticing here.\n",
    "On the contrary, most embarkers are males from 20-40."
   ]
  },
  {
   "cell_type": "markdown",
   "metadata": {},
   "source": [
    "## Q4. Create a scatter plot comparing age and fare. Comment on any correlations or patterns you observe."
   ]
  },
  {
   "cell_type": "code",
   "execution_count": 18,
   "metadata": {},
   "outputs": [
    {
     "data": {
      "text/plain": [
       "Text(0.5, 1.0, 'Age and Fare Scatter Plot')"
      ]
     },
     "execution_count": 18,
     "metadata": {},
     "output_type": "execute_result"
    },
    {
     "data": {
      "image/png": "[encoded data removed]",
      "text/plain": [
       "<Figure size 640x480 with 1 Axes>"
      ]
     },
     "metadata": {},
     "output_type": "display_data"
    }
   ],
   "source": [
    "sns.scatterplot(data=df, x='Age', y='Fare')\n",
    "plt.title('Age and Fare Scatter Plot')\n"
   ]
  },
  {
   "cell_type": "markdown",
   "metadata": {},
   "source": [
    "Not really seeing any correlation, the prices seem to have something else affecting their variablity."
   ]
  },
  {
   "cell_type": "markdown",
   "metadata": {},
   "source": [
    "## Q5. Group the dataset by 'Embarked' and 'Pclass' and visualize the mean fare for each combination using a bar chart. Comment on the fare differences based on embarkation ports and classes.\n"
   ]
  },
  {
   "cell_type": "code",
   "execution_count": 19,
   "metadata": {},
   "outputs": [
    {
     "name": "stderr",
     "output_type": "stream",
     "text": [
      "/var/folders/9r/709f9hv15p1fs41s6_994hmc0000gn/T/ipykernel_1207/2703422795.py:4: UserWarning: The palette list has more values (5) than needed (3), which may not be intended.\n",
      "  sns.barplot(data=grouped, x='Pclass', y='Fare', hue='Embarked', palette=colors)\n"
     ]
    },
    {
     "data": {
      "image/png": "[encoded data removed]",
      "text/plain": [
       "<Figure size 640x480 with 1 Axes>"
      ]
     },
     "metadata": {},
     "output_type": "display_data"
    }
   ],
   "source": [
    "\n",
    "grouped = df.groupby(['Pclass', 'Embarked'])['Fare'].mean().reset_index()\n",
    "\n",
    "sns.barplot(data=grouped, x='Pclass', y='Fare', hue='Embarked', palette=colors)\n",
    "\n",
    "plt.title('Mean Fare grouped by Embarkation and Pclass')\n",
    "plt.show()\n"
   ]
  },
  {
   "cell_type": "markdown",
   "metadata": {},
   "source": [
    "Class 1 has the highest fare, almost triple other classes.\n",
    "When it comes to embarkation ports C is the highest fare, then Q then S."
   ]
  },
  {
   "cell_type": "markdown",
   "metadata": {},
   "source": [
    "# PLAGIARISM POLICY\n",
    "\n",
    "In the interest of maintaining a fair and honest academic environment, this course strictly adheres to a zero-tolerance policy regarding plagiarism. \n",
    "Accordingly, all assignments must reflect individual effort and understanding. While abstract discussions with peers about concepts are encouraged, sharing or copying specific solutions, code, or pseudocode is not permitted and will be treated as plagiarism. This policy includes work sourced from the internet, publications, and AI tools like ChatGPT and GitHub Copilot. **USE THEM RESPONSIBLY**. For example, you can utilize them to enhance understanding and support your original work, not to replace it. Submitting work that is not entirely your own creation will be regarded as a violation of academic integrity. It is vital to use all resources, including AI, in a manner that supports your educational development without compromising the principles of academic honesty. \n",
    "\n",
    "If in doubt, do not hesitate to seek guidance from the course staff - we are here to help, with an aim to foster a learning environment based on trust, respect, and responsibility.\n"
   ]
  },
  {
   "cell_type": "markdown",
   "metadata": {},
   "source": [
    "# REFERENCES\n",
    "[1] Kaggle. (2023). Titanic: Machine Learning from Disaster [Data set]. Kaggle Inc. https://www.kaggle.com/c/titanic/data"
   ]
  },
  {
   "cell_type": "markdown",
   "metadata": {},
   "source": [
    "# ACKNOWLEDGMENTS\n",
    "\n",
    "• The design and development of this homework have been assisted by AI tools, with a special mention to ChatGPT for its assistance in conceptualizing the assignment and refining the wording. \n"
   ]
  }
 ],
 "metadata": {
  "kernelspec": {
   "display_name": "Python 3",
   "language": "python",
   "name": "python3"
  },
  "language_info": {
   "codemirror_mode": {
    "name": "ipython",
    "version": 3
   },
   "file_extension": ".py",
   "mimetype": "text/x-python",
   "name": "python",
   "nbconvert_exporter": "python",
   "pygments_lexer": "ipython3",
   "version": "3.11.1"
  }
 },
 "nbformat": 4,
 "nbformat_minor": 2
}
